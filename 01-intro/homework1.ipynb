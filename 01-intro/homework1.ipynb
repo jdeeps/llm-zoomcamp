{
 "cells": [
  {
   "cell_type": "code",
   "execution_count": 21,
   "id": "899491ca-6567-4566-b23b-f2c50133e98a",
   "metadata": {},
   "outputs": [],
   "source": [
    "import os\n",
    "import openai\n",
    "from openai import OpenAI"
   ]
  },
  {
   "cell_type": "code",
   "execution_count": 24,
   "id": "0baa36e3-ebb0-4215-8b3b-5f8f1bc3642e",
   "metadata": {},
   "outputs": [],
   "source": [
    "from dotenv import load_dotenv"
   ]
  },
  {
   "cell_type": "code",
   "execution_count": 25,
   "id": "e3f70a35-29e6-4427-9396-275f9608e4a1",
   "metadata": {},
   "outputs": [
    {
     "data": {
      "text/plain": [
       "True"
      ]
     },
     "execution_count": 25,
     "metadata": {},
     "output_type": "execute_result"
    }
   ],
   "source": [
    "load_dotenv()"
   ]
  },
  {
   "cell_type": "code",
   "execution_count": 26,
   "id": "1aa36a6a-cc14-4bcb-81ab-6f96a3447eac",
   "metadata": {},
   "outputs": [],
   "source": [
    "api_key = os.getenv(\"OPENAI_API_KEY\")"
   ]
  },
  {
   "cell_type": "code",
   "execution_count": 28,
   "id": "207be6aa-e277-41c5-b487-5f68795830a8",
   "metadata": {},
   "outputs": [],
   "source": [
    "open_api_key = api_key"
   ]
  },
  {
   "cell_type": "code",
   "execution_count": 29,
   "id": "8f8c08a9-9c1e-46c9-80fe-1fe645a5d52a",
   "metadata": {},
   "outputs": [],
   "source": [
    "client = OpenAI(api_key=open_api_key)"
   ]
  },
  {
   "cell_type": "code",
   "execution_count": 34,
   "id": "4a3502ad-dac3-4961-a7b7-366c4c066db5",
   "metadata": {},
   "outputs": [],
   "source": [
    "respose = client.chat.completions.create(model = 'gpt-4o',\n",
    "                                        messages = [{'role':'user','content':'is it too late to join the course'}])"
   ]
  },
  {
   "cell_type": "code",
   "execution_count": 39,
   "id": "2a599362-647f-4b39-a517-6130d1bb5154",
   "metadata": {},
   "outputs": [
    {
     "data": {
      "text/plain": [
       "\"I need more information to provide a helpful answer. What course are you referring to, and what specific deadlines or time constraints are involved? Generally speaking, whether it's too late to join a course will depend on factors such as the course start date, enrollment deadlines, and the policies of the institution offering the course. Check the course's official website or contact the program administrators for the most accurate information.\""
      ]
     },
     "execution_count": 39,
     "metadata": {},
     "output_type": "execute_result"
    }
   ],
   "source": [
    "respose.choices[0].message.content\n"
   ]
  },
  {
   "cell_type": "code",
   "execution_count": null,
   "id": "906f1ae3-13dd-497f-9f01-f948bff02888",
   "metadata": {},
   "outputs": [],
   "source": []
  }
 ],
 "metadata": {
  "kernelspec": {
   "display_name": "Python 3 (ipykernel)",
   "language": "python",
   "name": "python3"
  },
  "language_info": {
   "codemirror_mode": {
    "name": "ipython",
    "version": 3
   },
   "file_extension": ".py",
   "mimetype": "text/x-python",
   "name": "python",
   "nbconvert_exporter": "python",
   "pygments_lexer": "ipython3",
   "version": "3.12.1"
  }
 },
 "nbformat": 4,
 "nbformat_minor": 5
}
